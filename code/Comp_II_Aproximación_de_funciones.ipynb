{
  "nbformat": 4,
  "nbformat_minor": 0,
  "metadata": {
    "colab": {
      "name": "Comp II - Aproximación de funciones.ipynb",
      "private_outputs": true,
      "provenance": [],
      "collapsed_sections": [],
      "authorship_tag": "ABX9TyPNMfokElZtGWW+D6G3Mxhu",
      "include_colab_link": true
    },
    "kernelspec": {
      "name": "python3",
      "display_name": "Python 3"
    },
    "language_info": {
      "name": "python"
    }
  },
  "cells": [
    {
      "cell_type": "markdown",
      "metadata": {
        "id": "view-in-github",
        "colab_type": "text"
      },
      "source": [
        "<a href=\"https://colab.research.google.com/github/ulises1229/ComputacionII-2021-2/blob/main/code/Comp_II_Aproximaci%C3%B3n_de_funciones.ipynb\" target=\"_parent\"><img src=\"https://colab.research.google.com/assets/colab-badge.svg\" alt=\"Open In Colab\"/></a>"
      ]
    },
    {
      "cell_type": "markdown",
      "metadata": {
        "id": "KtYsO_Cai7At"
      },
      "source": [
        "# Computación II\n",
        "## Unidad V - Aproximación de funciones\n",
        "+ Autor: Ulises Olivares\n",
        "+ uolivares@unam.mx\n",
        "+ Mar 12, 2021\n",
        "\n",
        "<table align=\"center\">\n",
        "\n",
        "<td align=\"center\"><a target=\"_blank\" href=\"https://colab.research.google.com/drive/1sQ7AD5T_HLa6ofGJyrgdZwaW0QkxBrkX?usp=sharing\">\n",
        "        <img src=\"https://i.ibb.co/2P3SLwK/colab.png\"  style=\"padding-bottom:5px;\" />Ejecutar en Google Colab</a></td>\n",
        "  <td align=\"center\"><a target=\"_blank\" href=\"https://github.com/ulises1229/ComputacionII-2021-2/blob/main/code/Comp_II_Unidad_IV_Sistemas_de_ecuaciones_NL.ipynb\">\n",
        "        <img src=\"https://i.ibb.co/xfJbPmL/github.png\"  height=\"70px\" style=\"padding-bottom:5px;\"  />Ver código fuente en GitHub</a></td>\n",
        "\n",
        "\n",
        "</table>"
      ]
    }
  ]
}