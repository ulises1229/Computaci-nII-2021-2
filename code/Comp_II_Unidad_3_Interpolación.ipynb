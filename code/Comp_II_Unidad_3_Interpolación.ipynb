{
  "nbformat": 4,
  "nbformat_minor": 0,
  "metadata": {
    "colab": {
      "name": "Comp II - Unidad 3 - Interpolación.ipynb",
      "private_outputs": true,
      "provenance": [],
      "collapsed_sections": [],
      "authorship_tag": "ABX9TyMaXbHT/oxTbUxIzXBAvsIQ",
      "include_colab_link": true
    },
    "kernelspec": {
      "name": "python3",
      "display_name": "Python 3"
    }
  },
  "cells": [
    {
      "cell_type": "markdown",
      "metadata": {
        "id": "view-in-github",
        "colab_type": "text"
      },
      "source": [
        "<a href=\"https://colab.research.google.com/github/ulises1229/ComputacionII-2021-2/blob/main/code/Comp_II_Unidad_3_Interpolaci%C3%B3n.ipynb\" target=\"_parent\"><img src=\"https://colab.research.google.com/assets/colab-badge.svg\" alt=\"Open In Colab\"/></a>"
      ]
    },
    {
      "cell_type": "markdown",
      "metadata": {
        "id": "YYNkG6SShLmj"
      },
      "source": [
        "# Computación II \n",
        "## Unidad III - Interpolaciones\n",
        "+ Autor: Ulises Olivares \n",
        "+ uolivares@unam.mx\n",
        "+ Mar 12, 2021"
      ]
    },
    {
      "cell_type": "code",
      "metadata": {
        "id": "BxC4HE1yUUqc"
      },
      "source": [
        "import matplotlib.pyplot as plt\n",
        "from sympy.abc import x\n",
        "import numpy as np\n",
        "\n",
        "class Interpolation:\n",
        "\n",
        "    def linearInterpolation(self, X, Y):\n",
        "        b0 = Y[0]\n",
        "        b1 = (Y[1] - Y[0]) / (X[1] - X[0])\n",
        "        print(\"b1\", b1)\n",
        "        return b0 + b1*(x - X[0])\n",
        "\n",
        "\n",
        "class Graph():\n",
        "    # Genera un gráfico de dispersión\n",
        "    def plotScatter(self, X, Y):\n",
        "        plt.scatter(X, Y, label = 'Datos originales')\n",
        "        plt.title(\"Diagrama de dispersión Variable Independiente Vs Dependiente\")\n",
        "        plt.xlabel(\"X\")\n",
        "        plt.ylabel(\"Y\")\n",
        "    # Genera un gráfico de línea\n",
        "    def plotLine(self, func,a ,b):\n",
        "        X = np.linspace(a, b, 100)\n",
        "        Y = np.zeros_like(X)\n",
        "\n",
        "        for i in range(len(X)):\n",
        "            Y[i] = func.subs(x, X[i])\n",
        "        \n",
        "        plt.plot(X,Y, label = \"Interpolación lineal\",  c = 'g', ls='--')\n",
        "        plt.legend(loc='best')\n",
        "    # Despliega el gráfico (útil para ) \n",
        "    def displayPlot(self):\n",
        "        plt.show()\n",
        "\n",
        "\n",
        "def main():\n",
        "    X = [1, 4]\n",
        "    Y = [2, 8]\n",
        "\n",
        "    objG = Graph()\n",
        "    objG.plotScatter(X,Y)\n",
        "\n",
        "\n",
        "    objInt = Interpolation()\n",
        "    linearInt = objInt.linearInterpolation(X,Y)\n",
        "    print(\"Interpolación lineal:\",linearInt)\n",
        "\n",
        "    objG.plotLine(linearInt, 1, 4)\n",
        "\n",
        "if __name__ == \"__main__\":\n",
        "    main()"
      ],
      "execution_count": null,
      "outputs": []
    }
  ]
}